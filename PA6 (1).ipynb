{
 "cells": [
  {
   "cell_type": "markdown",
   "id": "907ebb57",
   "metadata": {},
   "source": [
    "* AJ Rallo\n",
    "* Assignment 5\n",
    "* Version 1\n",
    "* Fall 2023"
   ]
  },
  {
   "cell_type": "markdown",
   "id": "5ae5952f",
   "metadata": {},
   "source": [
    "### Task 1: Write a Python program will calculate the area and perimeter of a triangle using two different functions named calcArea() and calcPerimeter()"
   ]
  },
  {
   "cell_type": "code",
   "execution_count": 2,
   "id": "555bdf5d",
   "metadata": {},
   "outputs": [],
   "source": [
    "import math\n",
    "class Triangle():\n",
    "    def __init__(self, side_length):\n",
    "        self.side_length=side_length\n",
    "    def calcPerimeter(self):\n",
    "        return sum(self.side_length)\n",
    "    def calcArea(self):\n",
    "        a,b,c=self.side_length\n",
    "        s=(a+b+c)/2\n",
    "        return math.sqrt((s*(s-a)*(s-b)*(s-c)))"
   ]
  },
  {
   "cell_type": "code",
   "execution_count": 7,
   "id": "38e2887a",
   "metadata": {},
   "outputs": [
    {
     "name": "stdout",
     "output_type": "stream",
     "text": [
      " The perimeter of the triangle is: 15\n",
      " The area of the triangle is: 10.825317547305483\n"
     ]
    }
   ],
   "source": [
    "a_triangle=Triangle([5,5,5])\n",
    "print(f\" The perimeter of the triangle is: {a_triangle.calcPerimeter()}\")\n",
    "print(f\" The area of the triangle is: {a_triangle.calcArea()}\")"
   ]
  },
  {
   "cell_type": "markdown",
   "id": "26d59aaf",
   "metadata": {},
   "source": [
    "### Task 2: Write a Python program to play “Guess the Number”. Your program should generate a random number between 1 and 1000 and then prompt the user for a guess"
   ]
  },
  {
   "cell_type": "code",
   "execution_count": 8,
   "id": "8e278f40",
   "metadata": {},
   "outputs": [
    {
     "name": "stdout",
     "output_type": "stream",
     "text": [
      "Guess the number between 1 and 1000: 5\n",
      "Too low! Try again.\n",
      "Guess the number between 1 and 1000: 500\n",
      "Too high! Try again.\n",
      "Guess the number between 1 and 1000: 350\n",
      "Too high! Try again.\n",
      "Guess the number between 1 and 1000: 200\n",
      "Too high! Try again.\n",
      "Guess the number between 1 and 1000: 100\n",
      "Too high! Try again.\n",
      "Guess the number between 1 and 1000: 50\n",
      "Too low! Try again.\n",
      "Guess the number between 1 and 1000: 75\n",
      "Too low! Try again.\n",
      "Guess the number between 1 and 1000: 85\n",
      "Congratulations! You guessed the number in 8 guesses.\n"
     ]
    }
   ],
   "source": [
    "import random\n",
    "random_number = random.randint(1, 1000)\n",
    "guesses = 0\n",
    "while True:\n",
    "    guess = int(input(\"Guess the number between 1 and 1000: \"))\n",
    "    guesses += 1\n",
    "    if guess == random_number:\n",
    "        print(f\"Congratulations! You guessed the number in {guesses} guesses.\")\n",
    "        break\n",
    "    elif guess < random_number:\n",
    "        print(\"Too low! Try again.\")\n",
    "    else:\n",
    "        print(\"Too high! Try again.\")"
   ]
  },
  {
   "cell_type": "markdown",
   "id": "a21c71c6",
   "metadata": {},
   "source": [
    "### Task 3: Write a Python program to calculate the mean temperature over a set of Fahrenheit temperature values. Your program should calculate the mean in a function called meanTemp()and then print message that indicates the number of days your mean represents and the mean (see below)."
   ]
  },
  {
   "cell_type": "code",
   "execution_count": 10,
   "id": "8a265a88",
   "metadata": {},
   "outputs": [
    {
     "name": "stdout",
     "output_type": "stream",
     "text": [
      "The mean temperature over 5 days is 82.60 degrees Fahrenheit.\n"
     ]
    }
   ],
   "source": [
    "def meanTemp(*temperatures):\n",
    "    mean_temperature = sum(temperatures) / len(temperatures)\n",
    "    num_days = len(temperatures)\n",
    "    return num_days, mean_temperature\n",
    "temperatures = [78, 82, 75, 88, 90]\n",
    "num_days, mean_temperature = meanTemp(*temperatures)\n",
    "print(f\"The mean temperature over {num_days} days is {mean_temperature:.2f} degrees Fahrenheit.\")"
   ]
  }
 ],
 "metadata": {
  "kernelspec": {
   "display_name": "Python 3 (ipykernel)",
   "language": "python",
   "name": "python3"
  },
  "language_info": {
   "codemirror_mode": {
    "name": "ipython",
    "version": 3
   },
   "file_extension": ".py",
   "mimetype": "text/x-python",
   "name": "python",
   "nbconvert_exporter": "python",
   "pygments_lexer": "ipython3",
   "version": "3.11.4"
  }
 },
 "nbformat": 4,
 "nbformat_minor": 5
}
